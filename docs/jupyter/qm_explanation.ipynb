{
 "cells": [
  {
   "cell_type": "markdown",
   "metadata": {
    "collapsed": true
   },
   "source": [
    "# Explanation of First-Generation QM Model"
   ]
  },
  {
   "cell_type": "markdown",
   "metadata": {},
   "source": [
    "# Disclaimer\n",
    "\n",
    "Ultimately, I would like to understand, and be able to explain, the quantum mechanics behind the entire process of simulating an NMR spectrum. For now, here is a \"recipe\" of the steps to arrive at the spin Hamiltonian, and how its eigensolution can be used to calculate frequencies and intensities.\n",
    "\n",
    "Two sources in particular enabled this:\n",
    "1. Materials by Ilya Kuprov at SpinDynamics.org, particularly [Module I, Lecture 5](http://spindynamics.org/Spin-Dynamics---Part-I---Lecture-05.php) and the Matlab code of [Module II, Lecture 05](http://spindynamics.org/Spin-Dynamics---Part-II---Lecture-05.php) and [06](http://spindynamics.org/Spin-Dynamics---Part-II---Lecture-06.php).\n",
    "2. [Materials](http://www.users.csbsju.edu/~frioux/workinprogress.html#Spectroscopy) by Frank Rioux at St. John's University and College of St. Benedict. In particular, [*ABC Proton NMR Using Tensor Algebra*](http://www.users.csbsju.edu/~frioux/nmr/ABC-NMR-Tensor.pdf) was very helpful."
   ]
  },
  {
   "cell_type": "code",
   "execution_count": 7,
   "metadata": {},
   "outputs": [
    {
     "data": {
      "text/html": [
       "<style>.container { width:100% !important; }</style>"
      ],
      "text/plain": [
       "<IPython.core.display.HTML object>"
      ]
     },
     "metadata": {},
     "output_type": "execute_result"
    }
   ],
   "source": [
    "from IPython.core.display import display, HTML\n",
    "display(HTML(\"<style>.container { width:100% !important; }</style>\"))"
   ]
  },
  {
   "cell_type": "code",
   "execution_count": 10,
   "metadata": {},
   "outputs": [],
   "source": [
    "import numpy as np\n",
    "from math import sqrt\n",
    "from scipy.linalg import eigh\n",
    "from scipy.sparse import kron, csc_matrix, csr_matrix, lil_matrix, bmat\n",
    "\n",
    "import bokeh.io\n",
    "import bokeh.plotting\n"
   ]
  },
  {
   "cell_type": "markdown",
   "metadata": {},
   "source": [
    "## Constructing the Hamiltonian From Scratch"
   ]
  },
  {
   "cell_type": "markdown",
   "metadata": {},
   "source": [
    "Start with the Pauli matrices:\n",
    "\\begin{align}\n",
    "\\sigma_x = \\begin{pmatrix}0& \\frac{1}{2}\\\\ \\frac{1}{2}&0\\end{pmatrix}, \n",
    "\\sigma_y = \\begin{pmatrix}0& -\\frac{i}{2}\\\\ \\frac{i}{2}&0\\end{pmatrix}, \n",
    "\\sigma_z = \\begin{pmatrix}\\frac{1}{2}& 0\\\\ 0&-\\frac{1}{2}\\end{pmatrix}\n",
    "\\end{align}\n",
    "\n",
    "plus the identity matrix $I = \\begin{pmatrix}1&0\\\\0&1\\end{pmatrix}$"
   ]
  },
  {
   "cell_type": "code",
   "execution_count": 11,
   "metadata": {
    "collapsed": true
   },
   "outputs": [],
   "source": [
    "sigma_x = np.matrix([[0, 1 / 2], [1 / 2, 0]])\n",
    "sigma_y = np.matrix([[0, -1j / 2], [1j / 2, 0]])\n",
    "sigma_z = np.matrix([[1 / 2, 0], [0, -1 / 2]])\n",
    "unit = np.matrix([[1, 0], [0, 1]])"
   ]
  },
  {
   "cell_type": "markdown",
   "metadata": {},
   "source": [
    "The required inputs are a list of frequencies $\\nu_i$ and a matrix of $J_{ij}$ coupling constants:"
   ]
  },
  {
   "cell_type": "code",
   "execution_count": 12,
   "metadata": {
    "collapsed": true
   },
   "outputs": [],
   "source": [
    "freqlist = [10.0, 20.0]\n",
    "couplings = np.array([[0, 5], [5, 0]])\n"
   ]
  },
  {
   "cell_type": "markdown",
   "metadata": {},
   "source": [
    "Let's break the original hamiltonian function down into smaller functions and explain their roles:"
   ]
  },
  {
   "cell_type": "code",
   "execution_count": 13,
   "metadata": {
    "collapsed": true
   },
   "outputs": [],
   "source": [
    "def hamiltonian(freqlist, couplings):\n",
    "    \"\"\"Calculate the Hamiltonian for a spin system (isotropic liquid).\n",
    "    \n",
    "    Arguments:\n",
    "        freqlist: a list of n chemical shifts (in Hz)\n",
    "        couplings: an n x n array of J coupling constants (in Hz)\n",
    "    Return:\n",
    "        H: numpy.ndarray spin Hamiltonian\n",
    "    \"\"\"\n",
    "    Lx, Ly, Lz = create_krons(freqlist)\n",
    "    Lproduct = cartesian_products(Lx, Ly, Lz)\n",
    "    H_zeeman = hamiltonian_diagonal(freqlist, Lz)\n",
    "    H_J = hamiltonian_off_diagonal(couplings, Lproduct)\n",
    "    H = H_zeeman + H_J\n",
    "    return H"
   ]
  },
  {
   "cell_type": "markdown",
   "metadata": {},
   "source": [
    "### Step 1: Each spin gets its own $L_x$, $L_y$ and $L_z$ operators.\n",
    "\n",
    "These are formed from Kronecker products between $\\sigma_{x/y/z}$ and $I$ operators.\n",
    "\n",
    "Each individual product, for n spins, uses 1$\\sigma_{x/y/z}$ and (n - 1) $I$ operators. They all differ in where in the sequence the $\\sigma_{x/y/z}$ operator is placed.\n",
    "\n",
    "For 3 spins, and using $L_z$ for example:\n",
    "\n",
    "\\begin{align}\n",
    "L_{z_1} &= \\sigma_z \\otimes I \\otimes I\\\\\n",
    "L_{z_2} &= I \\otimes \\sigma_z \\otimes I\\\\\n",
    "L_{z_3} &= I \\otimes I \\otimes \\sigma_z\n",
    "\\end{align}\n"
   ]
  },
  {
   "cell_type": "markdown",
   "metadata": {},
   "source": [
    "In the Python code, these individual $L_{x/y/z_n}$ operators get stored in a [0, n] array, Ln.\n"
   ]
  },
  {
   "cell_type": "code",
   "execution_count": 14,
   "metadata": {
    "collapsed": true
   },
   "outputs": [],
   "source": [
    "def create_krons(freqlist):\n",
    "    nspins = len(freqlist)\n",
    "    # The following empty arrays will be used to store the\n",
    "    # Cartesian spin operators.\n",
    "    Lx = np.empty((1, nspins), dtype='object')\n",
    "    Ly = np.empty((1, nspins), dtype='object')\n",
    "    Lz = np.empty((1, nspins), dtype='object')\n",
    "\n",
    "    for n in range(nspins):\n",
    "        Lx[0, n] = 1\n",
    "        Ly[0, n] = 1\n",
    "        Lz[0, n] = 1\n",
    "        for k in range(nspins):\n",
    "            if k == n:                                  # Diagonal element\n",
    "                Lx[0, n] = np.kron(Lx[0, n], sigma_x)\n",
    "                Ly[0, n] = np.kron(Ly[0, n], sigma_y)\n",
    "                Lz[0, n] = np.kron(Lz[0, n], sigma_z)\n",
    "            else:                                       # Off-diagonal element\n",
    "                Lx[0, n] = np.kron(Lx[0, n], unit)\n",
    "                Ly[0, n] = np.kron(Ly[0, n], unit)\n",
    "                Lz[0, n] = np.kron(Lz[0, n], unit)\n",
    "                \n",
    "    return Lx, Ly, Lz"
   ]
  },
  {
   "cell_type": "markdown",
   "metadata": {},
   "source": [
    "### Step 2: Create the sums of cartesian products of $L$ operators.\n",
    "\n",
    "Eventually, the off-diagonal components of the Hamiltonian  $H$ require calculating Cartesian products of the $L$ operators. In an attempt to hopefully \"vectorize\" these for faster computation, all of these products were calculated at once. Then, when a particular result is required (e.g. $L_{x_1}L_{x_2}+L_{y_1}L_{y_2}+L_{z_1}L_{z_2}$) it can be plucked like a bonbon out of a tray when desired.\n",
    "\n",
    "First, the $L_x, L_y, $ and $L_z$ operators were compiled into a 3 x n array of operators:\n",
    "```python\n",
    "Lcol = np.vstack((Lx, Ly, Lz)).real\n",
    "```\n",
    "created:\n",
    "\\begin{align}\n",
    "L_{col} = \\begin{pmatrix}\n",
    "L_{x_1}& L_{x_2}&\\dots & L_{x_n}\\\\ \n",
    "L_{x_1}& L_{x_2}&\\dots & L_{x_n}\\\\\n",
    "L_{x_1}& L_{x_2}&\\dots & L_{x_n}\n",
    "\\end{pmatrix}\n",
    "\\end{align}\n",
    "\n",
    "Its transpose created the n x 3 array of operators:\n",
    "\n",
    "\\begin{align}\n",
    "L_{row} = \\begin{pmatrix}\n",
    "L_{x_1}& L_{y_1}&L_{z_1}\\\\ \n",
    "L_{x_2}& L_{y_2}&L_{z_2}\\\\\n",
    "\\vdots&\\vdots&\\vdots\\\\\n",
    "L_{x_n}& L_{y_n}&L_{z_n}\n",
    "\\end{pmatrix}\n",
    "\\end{align}\n",
    "\n",
    "The product of these two arrays gives an array of the Cartesian products:\n",
    "\n",
    "\\begin{align}\n",
    "L_{product}&= L_{row} \\cdot L_{col} \\\\\n",
    "&=\\Tiny\\begin{pmatrix}\n",
    "L_{x_1}L_{x_1}+L_{y_1}L_{y_1}+L_{z_1}L_{z_1}&L_{x_1}L_{x_2}+L_{y_1}L_{y_2}+L_{z_1}L_{z_2}&\\dots&L_{x_1}L_{x_n}+L_{y_1}L_{y_n}+L_{z_1}L_{z_n}\\\\\n",
    "\\vdots& &\\ddots& \\\\\n",
    "L_{x_n}L_{x_1}+L_{y_n}L_{y_1}+L_{z_n}L_{z_1}&L_{x_n}L_{x_2}+L_{y_n}L_{y_2}+L_{z_n}L_{z_2}&\\dots&L_{x_n}L_{x_n}+L_{y_n}L_{y_n}+L_{z_n}L_{z_n}\\\\\n",
    "\\end{pmatrix}\n",
    "\\end{align}\n",
    "\n",
    "\n",
    "\n"
   ]
  },
  {
   "cell_type": "code",
   "execution_count": 15,
   "metadata": {
    "collapsed": true
   },
   "outputs": [],
   "source": [
    "def cartesian_products(Lx, Ly, Lz):\n",
    "    Lcol = np.vstack((Lx, Ly, Lz)).real\n",
    "    Lrow = Lcol.T  # As opposed to sparse version of code, this works!\n",
    "    Lproduct = np.dot(Lrow, Lcol)\n",
    "    return Lproduct"
   ]
  },
  {
   "cell_type": "markdown",
   "metadata": {},
   "source": [
    "### Step 3: Add the Zeeman (on-diagonal) terms to the Hamiltonian.\n",
    "\n",
    "\\begin{align}\n",
    "H_{Zeeman} = \\sum_{i=1}^n \\nu_i L_{z_i}\n",
    "\\end{align}"
   ]
  },
  {
   "cell_type": "code",
   "execution_count": 16,
   "metadata": {
    "collapsed": true
   },
   "outputs": [],
   "source": [
    "def hamiltonian_diagonal(freqlist, Lz):\n",
    "    nspins = len(freqlist)\n",
    "    # Hamiltonian operator\n",
    "    H = np.zeros((2**nspins, 2**nspins))\n",
    "\n",
    "    # Add Zeeman interactions:\n",
    "    for n in range(nspins):\n",
    "        H = H + freqlist[n] * Lz[0, n]\n",
    "    \n",
    "    return H\n",
    "\n"
   ]
  },
  {
   "cell_type": "markdown",
   "metadata": {},
   "source": [
    "### Step 4: Add the J-coupling (off-diagonal) terms to the Hamiltonian.\n",
    "\n",
    "\\begin{align}\n",
    "H_J &= \\sum_{i=1}^n \\sum_{j=1}^n \\frac{J_{ij}}{2} (L_{x_i}L_{x_j}+L_{y_i}L_{y_j}+L_{z_i}L_{z_j})\\\\\n",
    "H &= H_{Zeeman} + H_J\n",
    "\\end{align}\n",
    "\n",
    "In an attempt to vectorize the calculation for better performance, this was accomplished by doing in-place multiplication of the matrix of $J$ coupling constants and the "
   ]
  },
  {
   "cell_type": "code",
   "execution_count": 17,
   "metadata": {
    "collapsed": true
   },
   "outputs": [],
   "source": [
    "def hamiltonian_off_diagonal(couplings, Lproduct):\n",
    "    \n",
    "    nspins = len(couplings[0])\n",
    "    # Hamiltonian operator\n",
    "    H = np.zeros((2**nspins, 2**nspins))\n",
    "    \n",
    "    # Scalar couplings\n",
    "\n",
    "    # Testing with MATLAB discovered J must be /2.\n",
    "    # Believe it is related to the fact that in the SpinDynamics.org simulation\n",
    "    # freqs are *2pi, but Js by pi only.\n",
    "    scalars = 0.5 * couplings\n",
    "    scalars = np.multiply(scalars, Lproduct)\n",
    "    for n in range(nspins):\n",
    "        for k in range(nspins):\n",
    "            H += scalars[n, k].real\n",
    "\n",
    "    return H"
   ]
  },
  {
   "cell_type": "markdown",
   "metadata": {},
   "source": [
    "## Extracting Signal Frequencies and Intensities From the Hamiltonian\n",
    "\n",
    "To simulate a \"modern\" NMR experiment, a 90° pulse and FID acquisition is simulated, followed by Fourier transform. This is the approach used in Kuprov's Matlab code, and should be the required approach for any experiment requiring a more elaborate pulse sequence. \n",
    "\n",
    "For a simple NMR spectrum, we can adipt a \"continuous wave spectrometer\" approach. We can find the resonance frequencies and their relative intensities directly from the spin Hamiltonian. The time-independent Schrodinger equation $H\\Psi = E\\Psi$ is solved for eigenvectors and corresponding eigenvalues. \n",
    "\n",
    "For each $\\psi_i$, the eigenvectors are the coefficients $c_n$ for each pure spin state. For a two-spin system, for example,\n",
    "\n",
    "$\\psi_i = c_1$|$\\alpha\\alpha$>$ + c_2$|$\\alpha\\beta$>$ + c_3$|$\\beta\\alpha$>$ + c_4$|$\\beta\\beta$>.\n",
    "\n",
    "and the corresponding eigenvector would be \\begin{bmatrix}c_1\\\\c_2\\\\c_3\\\\c_4\\end{bmatrix}"
   ]
  },
  {
   "cell_type": "markdown",
   "metadata": {},
   "source": [
    "For a one-spin system, the two states for \"spin-up\" (|> or |>) and for \"spin-down\" (|> or |>) are represented by vectors $\\begin{bmatrix}1\\\\0\\end{bmatrix}$ and $\\begin{bmatrix}0\\\\1\\end{bmatrix}$, respectively. For \"pure\" multiple-spin states, their vectors are obtained by taking tensor products of these vectors. For example:\n",
    "\n",
    "\\begin{align}\n",
    "\\textrm|\\alpha\\alpha\\textrm> &=\n",
    "\\begin{bmatrix}1\\\\0\\end{bmatrix}\\otimes\\begin{bmatrix}1\\\\0\\end{bmatrix} = \\begin{bmatrix}1\\\\0\\\\0\\\\0\\end{bmatrix}\n",
    "\\\\\n",
    "\\textrm|\\alpha\\beta\\textrm> &= \\begin{bmatrix}1\\\\0\\end{bmatrix}\\otimes\\begin{bmatrix}0\\\\1\\end{bmatrix} = \\begin{bmatrix}0\\\\1\\\\0\\\\0\\end{bmatrix}\n",
    "\\\\\n",
    "\\textrm|\\beta\\alpha\\textrm> &= \\begin{bmatrix}0\\\\1\\end{bmatrix}\\otimes\\begin{bmatrix}1\\\\0\\end{bmatrix} = \\begin{bmatrix}0\\\\0\\\\1\\\\0\\end{bmatrix}\n",
    "\\\\\n",
    "\\textrm|\\beta\\beta\\textrm> &= \\begin{bmatrix}0\\\\1\\end{bmatrix}\\otimes\\begin{bmatrix}0\\\\1\\end{bmatrix} = \\begin{bmatrix}0\\\\0\\\\0\\\\1\\end{bmatrix}\n",
    "\\end{align}"
   ]
  },
  {
   "cell_type": "markdown",
   "metadata": {},
   "source": [
    "A (coincidental?) consequence of this is that the index for $H$, expressed in binary form as a series of 0s and 1s, is the eigenvector for the associated pure spin state (cf. Rioux's *ABC Proton NMR Using Tensor Algebra*). \n",
    "\n",
    "Since allowed transitions change the total spin of a system by $\\pm$ 1, this is analogous to transitions only being allowed between spin states whose binary indices only differ at one bit. In computing terms, if the Hamming weight of the two indices differ by exactly 1, the transition is allowed. "
   ]
  },
  {
   "cell_type": "code",
   "execution_count": 20,
   "metadata": {},
   "outputs": [],
   "source": [
    "def popcount(n=0):\n",
    "    \"\"\"\n",
    "    Computes the popcount (binary Hamming weight) of integer n\n",
    "    input:\n",
    "        :param n: an integer\n",
    "    returns:\n",
    "        popcount of integer (binary Hamming weight)\n",
    "\n",
    "    \"\"\"\n",
    "    return bin(n).count('1')\n",
    "\n",
    "\n",
    "def is_allowed(m=0, n=0):\n",
    "    \"\"\"\n",
    "    determines if a transition between two spin states is allowed or forbidden.\n",
    "    The transition is allowed if one and only one spin (i.e. bit) changes\n",
    "    input: integers whose binary codes for a spin state\n",
    "        :param n:\n",
    "        :param m:\n",
    "    output: 1 = allowed, 0 = forbidden\n",
    "\n",
    "    \"\"\"\n",
    "    return popcount(m ^ n) == 1"
   ]
  },
  {
   "cell_type": "markdown",
   "metadata": {},
   "source": [
    "Knowing this, we can create a transition probability matrix $T$, where $T_{ij} = 1$ if a transition between states $i$ and $j$ are allowed, and $0$ if not."
   ]
  },
  {
   "cell_type": "code",
   "execution_count": 21,
   "metadata": {
    "collapsed": true
   },
   "outputs": [],
   "source": [
    "def transition_matrix(n):\n",
    "    \"\"\"\n",
    "    Creates a matrix of allowed transitions.\n",
    "    The integers 0-n, in their binary form, code for a spin state (alpha/beta).\n",
    "    The (i,j) cells in the matrix indicate whether a transition from spin state\n",
    "    i to spin state j is allowed or forbidden.\n",
    "    See the is_allowed function for more information.\n",
    "\n",
    "    input:\n",
    "        :param n: size of the n,n matrix (i.e. number of possible spin states)\n",
    "\n",
    "    :returns: a transition matrix that can be used to compute the intensity of\n",
    "    allowed transitions.\n",
    "    \"\"\"\n",
    "    # function was optimized by only calculating upper triangle and then adding\n",
    "    # the lower.\n",
    "    T = lil_matrix((n, n))  # sparse matrix created\n",
    "    for i in range(n - 1):\n",
    "        for j in range(i + 1, n):\n",
    "            if is_allowed(i, j):\n",
    "                T[i, j] = 1\n",
    "    T = T + T.T\n",
    "    return T"
   ]
  },
  {
   "cell_type": "markdown",
   "metadata": {},
   "source": [
    "The eigenvector solutions for the Hamiltonian include two pure states (\"all-up/$\\alpha$\" and \"all-down/$\\beta$\", plus mixed states. We can construct a matrix $V_{col}$ where each column of the matrix is an eigenvector solution, in their indexed order:\n",
    "\n",
    "\\begin{align}\n",
    "V_{col} = \\begin{pmatrix}\n",
    "\\textrm| \\psi_1\\textrm> &\\textrm| \\psi_2\\textrm> &\\dots &\\textrm| \\psi_n\\textrm>\n",
    "\\end{pmatrix}\n",
    "=\\begin{pmatrix}\n",
    "\\begin{bmatrix}c_1\\\\c_2\\\\\\vdots\\\\c_n\\end{bmatrix}_1\n",
    "&\\begin{bmatrix}c_1\\\\c_2\\\\\\vdots\\\\c_n\\end{bmatrix}_2\n",
    "&\\dots\n",
    "&\\begin{bmatrix}c_1\\\\c_2\\\\\\vdots\\\\c_n\\end{bmatrix}_n\n",
    "\\end{pmatrix}\n",
    "\\end{align}\n",
    "\n",
    "and where its transpose $V_{row} = V_{col}^T$ has an eigenvector for each row:\n",
    "\n",
    "\\begin{align}\n",
    "V_{row}=\\begin{pmatrix}\n",
    "\\textrm< \\psi_1\\textrm| \\\\\n",
    "\\textrm< \\psi_2\\textrm| \\\\\n",
    "\\vdots\\\\\n",
    "\\textrm< \\psi_n\\textrm| \\\\\n",
    "\\end{pmatrix}\n",
    "=\\begin{pmatrix}\n",
    "\\begin{bmatrix}c_1&c_2&\\dots&c_n\\end{bmatrix}_1\\\\\n",
    "\\begin{bmatrix}c_1&c_2&\\dots&c_n\\end{bmatrix}_2\\\\\n",
    "\\vdots\\\\\n",
    "\\begin{bmatrix}c_1&c_2&\\dots&c_n\\end{bmatrix}_n\\\\\n",
    "\\end{pmatrix}\n",
    "\\end{align}\n"
   ]
  },
  {
   "cell_type": "markdown",
   "metadata": {},
   "source": [
    "The intensity matrix $I$ can be obtained by taking $V_{row}\\cdot T \\cdot V_{col}$ and squaring it element-wise, so that $I_{ij}$ is the relative probability of a transition between the $\\psi_i$ and $\\psi_j$ states. The difference in energy between the two states gives the frequency in Hz."
   ]
  },
  {
   "cell_type": "code",
   "execution_count": 27,
   "metadata": {
    "collapsed": true
   },
   "outputs": [],
   "source": [
    "def simsignals(H, nspins):\n",
    "    \"\"\"\n",
    "    Solves the spin Hamiltonian H and returns a list of (frequency, intensity)\n",
    "    tuples. Nuclei must be spin-1/2.\n",
    "    Inputs:\n",
    "        :param H: a Hamiltonian array\n",
    "        :param nspins: number of nuclei\n",
    "    :return spectrum: a list of (frequency, intensity) tuples.\n",
    "    \"\"\"\n",
    "    # This routine was optimized for speed by vectorizing the intensity\n",
    "    # calculations, replacing a nested-for signal-by-signal calculation.\n",
    "    # Considering that hamiltonian was dramatically faster when refactored to\n",
    "    # use arrays instead of sparse matrices, consider an array refactor to this\n",
    "    # function as well.\n",
    "\n",
    "    # The eigensolution calculation apparently must be done on a dense matrix,\n",
    "    # because eig functions on sparse matrices can't return all answers?!\n",
    "    # Using eigh so that answers have only real components and no residual small\n",
    "    # unreal components b/c of rounding errors\n",
    "    E, V = np.linalg.eigh(H)    # V will be eigenvectors, v will be frequencies\n",
    "    print(E)\n",
    "    # Eigh still leaves residual 0j terms, so:\n",
    "    V = np.asmatrix(V.real)\n",
    "    print(V)\n",
    "\n",
    "    # Calculate signal intensities\n",
    "    Vcol = csc_matrix(V)\n",
    "    print('Vcol:')\n",
    "    print(Vcol.todense())\n",
    "    Vrow = csr_matrix(Vcol.T)\n",
    "    print('Vrow:')\n",
    "    print(Vrow.todense())\n",
    "    m = 2 ** nspins\n",
    "    T = transition_matrix(m)\n",
    "    print('T:')\n",
    "    print(T.todense())\n",
    "    print('T•Vcol:')\n",
    "    mid_t = T * Vcol\n",
    "    print(mid_t.todense())\n",
    "    I = Vrow * T * Vcol\n",
    "    print('I:')\n",
    "    print(I.todense())\n",
    "    print('I squared:')\n",
    "    I = np.square(I.todense())\n",
    "    print(I)\n",
    "\n",
    "    spectrum = []\n",
    "    for i in range(m - 1):\n",
    "        for j in range(i + 1, m):\n",
    "            if I[i, j] > 0.01:  # consider making this minimum intensity\n",
    "                                # cutoff a function arg, for flexibility\n",
    "                v = abs(E[i] - E[j])\n",
    "                spectrum.append((v, I[i, j]))\n",
    "\n",
    "    return spectrum"
   ]
  },
  {
   "cell_type": "code",
   "execution_count": 12,
   "metadata": {
    "collapsed": true
   },
   "outputs": [],
   "source": [
    "def hamiltonian_with_prints(freqlist, couplings):\n",
    "    # The following empty arrays will be used to store the\n",
    "    # Cartesian spin operators.\n",
    "    Lx = np.empty((1, nspins), dtype='object')\n",
    "    Ly = np.empty((1, nspins), dtype='object')\n",
    "    Lz = np.empty((1, nspins), dtype='object')\n",
    "\n",
    "    for n in range(nspins):\n",
    "        Lx[0, n] = 1\n",
    "        Ly[0, n] = 1\n",
    "        Lz[0, n] = 1\n",
    "        for k in range(nspins):\n",
    "            if k == n:                                  # Diagonal element\n",
    "                Lx[0, n] = np.kron(Lx[0, n], sigma_x)\n",
    "                Ly[0, n] = np.kron(Ly[0, n], sigma_y)\n",
    "                Lz[0, n] = np.kron(Lz[0, n], sigma_z)\n",
    "            else:                                       # Off-diagonal element\n",
    "                Lx[0, n] = np.kron(Lx[0, n], unit)\n",
    "                Ly[0, n] = np.kron(Ly[0, n], unit)\n",
    "                Lz[0, n] = np.kron(Lz[0, n], unit)\n",
    "\n",
    "    Lcol = np.vstack((Lx, Ly, Lz)).real\n",
    "    Lrow = Lcol.T  # As opposed to sparse version of code, this works!\n",
    "    Lproduct = np.dot(Lrow, Lcol)\n",
    "    print(Lcol)\n",
    "    print('-'*10)\n",
    "    print(Lrow)\n",
    "    print('-'*10)\n",
    "    print(Lproduct)\n",
    "\n",
    "    # Hamiltonian operator\n",
    "    H = np.zeros((2**nspins, 2**nspins))\n",
    "\n",
    "    # Add Zeeman interactions:\n",
    "    for n in range(nspins):\n",
    "        H = H + freqlist[n] * Lz[0, n]\n",
    "\n",
    "    # Scalar couplings\n",
    "\n",
    "    # Testing with MATLAB discovered J must be /2.\n",
    "    # Believe it is related to the fact that in the SpinDynamics.org simulation\n",
    "    # freqs are *2pi, but Js by pi only.\n",
    "    scalars = 0.5 * couplings\n",
    "    scalars = np.multiply(scalars, Lproduct)\n",
    "    for n in range(nspins):\n",
    "        for k in range(nspins):\n",
    "            H += scalars[n, k].real\n",
    "            \n",
    "    print('Lz: ', Lz)\n",
    "\n",
    "    return H\n",
    "    "
   ]
  },
  {
   "cell_type": "code",
   "execution_count": 24,
   "metadata": {},
   "outputs": [
    {
     "data": {
      "text/plain": [
       "matrix([[ 16.25,   0.  ,   0.  ,   0.  ],\n",
       "        [  0.  ,  -6.25,   2.5 ,   0.  ],\n",
       "        [  0.  ,   2.5 ,   3.75,   0.  ],\n",
       "        [  0.  ,   0.  ,   0.  , -13.75]])"
      ]
     },
     "execution_count": 24,
     "metadata": {},
     "output_type": "execute_result"
    }
   ],
   "source": [
    "H = hamiltonian(freqlist, couplings)\n",
    "H"
   ]
  },
  {
   "cell_type": "code",
   "execution_count": 28,
   "metadata": {},
   "outputs": [
    {
     "name": "stdout",
     "output_type": "stream",
     "text": [
      "[-13.75        -6.84016994   4.34016994  16.25      ]\n",
      "[[ 0.          0.         -0.          1.        ]\n",
      " [ 0.         -0.97324899 -0.22975292  0.        ]\n",
      " [ 0.          0.22975292 -0.97324899  0.        ]\n",
      " [ 1.          0.         -0.          0.        ]]\n",
      "Vcol:\n",
      "[[ 0.          0.          0.          1.        ]\n",
      " [ 0.         -0.97324899 -0.22975292  0.        ]\n",
      " [ 0.          0.22975292 -0.97324899  0.        ]\n",
      " [ 1.          0.          0.          0.        ]]\n",
      "Vrow:\n",
      "[[ 0.          0.          0.          1.        ]\n",
      " [ 0.         -0.97324899  0.22975292  0.        ]\n",
      " [ 0.         -0.22975292 -0.97324899  0.        ]\n",
      " [ 1.          0.          0.          0.        ]]\n",
      "T:\n",
      "[[ 0.  1.  1.  0.]\n",
      " [ 1.  0.  0.  1.]\n",
      " [ 1.  0.  0.  1.]\n",
      " [ 0.  1.  1.  0.]]\n",
      "T•Vcol:\n",
      "[[ 0.         -0.74349607 -1.20300191  0.        ]\n",
      " [ 1.          0.          0.          1.        ]\n",
      " [ 1.          0.          0.          1.        ]\n",
      " [ 0.         -0.74349607 -1.20300191  0.        ]]\n",
      "I:\n",
      "[[ 0.         -0.74349607 -1.20300191  0.        ]\n",
      " [-0.74349607  0.          0.         -0.74349607]\n",
      " [-1.20300191  0.          0.         -1.20300191]\n",
      " [ 0.         -0.74349607 -1.20300191  0.        ]]\n",
      "I squared:\n",
      "[[ 0.         0.5527864  1.4472136  0.       ]\n",
      " [ 0.5527864  0.         0.         0.5527864]\n",
      " [ 1.4472136  0.         0.         1.4472136]\n",
      " [ 0.         0.5527864  1.4472136  0.       ]]\n"
     ]
    },
    {
     "data": {
      "text/plain": [
       "[(6.9098300562505255, 0.55278640450004191),\n",
       " (18.090169943749473, 1.4472135954999577),\n",
       " (23.090169943749473, 0.55278640450004191),\n",
       " (11.909830056250525, 1.4472135954999577)]"
      ]
     },
     "execution_count": 28,
     "metadata": {},
     "output_type": "execute_result"
    }
   ],
   "source": [
    "np.set_printoptions(threshold=np.nan)\n",
    "nspins = len(freqlist)\n",
    "simsignals(H, nspins)"
   ]
  },
  {
   "cell_type": "markdown",
   "metadata": {},
   "source": [
    "What happens if we only have one nucleus?"
   ]
  },
  {
   "cell_type": "code",
   "execution_count": 15,
   "metadata": {
    "collapsed": true
   },
   "outputs": [],
   "source": [
    "freqlist = [10.0]\n",
    "couplings = np.array([[0]])\n",
    "nspins = len(freqlist)"
   ]
  },
  {
   "cell_type": "markdown",
   "metadata": {},
   "source": [
    "two uncoupled spins:"
   ]
  },
  {
   "cell_type": "code",
   "execution_count": 16,
   "metadata": {
    "collapsed": true
   },
   "outputs": [],
   "source": [
    "freqlist = [10.0, 20.0]\n",
    "couplings = np.array([[0, 0], [0, 0]])\n",
    "nspins = len(freqlist)"
   ]
  },
  {
   "cell_type": "code",
   "execution_count": null,
   "metadata": {
    "collapsed": true
   },
   "outputs": [],
   "source": []
  }
 ],
 "metadata": {
  "kernelspec": {
   "display_name": "Python [default]",
   "language": "python",
   "name": "python3"
  },
  "language_info": {
   "codemirror_mode": {
    "name": "ipython",
    "version": 3
   },
   "file_extension": ".py",
   "mimetype": "text/x-python",
   "name": "python",
   "nbconvert_exporter": "python",
   "pygments_lexer": "ipython3",
   "version": "3.5.4"
  }
 },
 "nbformat": 4,
 "nbformat_minor": 1
}
