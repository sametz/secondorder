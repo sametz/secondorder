{
 "cells": [
  {
   "cell_type": "markdown",
   "metadata": {
    "collapsed": true
   },
   "source": [
    "# Explanation of First-Generation QM Model"
   ]
  },
  {
   "cell_type": "code",
   "execution_count": 1,
   "metadata": {},
   "outputs": [
    {
     "data": {
      "text/html": [
       "<style>.container { width:100% !important; }</style>"
      ],
      "text/plain": [
       "<IPython.core.display.HTML object>"
      ]
     },
     "metadata": {},
     "output_type": "execute_result"
    }
   ],
   "source": [
    "from IPython.core.display import display, HTML\n",
    "display(HTML(\"<style>.container { width:100% !important; }</style>\"))"
   ]
  },
  {
   "cell_type": "code",
   "execution_count": 2,
   "metadata": {
    "collapsed": true
   },
   "outputs": [],
   "source": [
    "import numpy as np\n",
    "from math import sqrt\n",
    "from scipy.linalg import eigh\n",
    "from scipy.sparse import kron, csc_matrix, csr_matrix, lil_matrix, bmat\n",
    "\n",
    "import bokeh.io\n",
    "import bokeh.plotting"
   ]
  },
  {
   "cell_type": "markdown",
   "metadata": {},
   "source": [
    "## Constructing the Hamiltonian From Scratch"
   ]
  },
  {
   "cell_type": "markdown",
   "metadata": {},
   "source": [
    "Start with the Pauli matrices:\n",
    "\\begin{align}\n",
    "\\sigma_x = \\begin{pmatrix}0& \\frac{1}{2}\\\\ \\frac{1}{2}&0\\end{pmatrix}, \n",
    "\\sigma_y = \\begin{pmatrix}0& -\\frac{i}{2}\\\\ \\frac{i}{2}&0\\end{pmatrix}, \n",
    "\\sigma_z = \\begin{pmatrix}\\frac{1}{2}& 0\\\\ 0&-\\frac{1}{2}\\end{pmatrix}\n",
    "\\end{align}\n",
    "\n",
    "plus the identity matrix $I = \\begin{pmatrix}1&0\\\\0&1\\end{pmatrix}$"
   ]
  },
  {
   "cell_type": "code",
   "execution_count": 3,
   "metadata": {
    "collapsed": true
   },
   "outputs": [],
   "source": [
    "sigma_x = np.matrix([[0, 1 / 2], [1 / 2, 0]])\n",
    "sigma_y = np.matrix([[0, -1j / 2], [1j / 2, 0]])\n",
    "sigma_z = np.matrix([[1 / 2, 0], [0, -1 / 2]])\n",
    "unit = np.matrix([[1, 0], [0, 1]])"
   ]
  },
  {
   "cell_type": "markdown",
   "metadata": {},
   "source": [
    "Given a list of frequencies $\\nu_i$ and a matrix of $J_{ij}$ coupling constants:"
   ]
  },
  {
   "cell_type": "code",
   "execution_count": 4,
   "metadata": {
    "collapsed": true
   },
   "outputs": [],
   "source": [
    "freqlist = [10.0, 20.0]\n",
    "couplings = np.array([[0, 5], [5, 0]])\n"
   ]
  },
  {
   "cell_type": "markdown",
   "metadata": {},
   "source": [
    "Let's break the original hamiltonian function down into chunks that we can explain:"
   ]
  },
  {
   "cell_type": "code",
   "execution_count": 5,
   "metadata": {
    "collapsed": true
   },
   "outputs": [],
   "source": [
    "def hamiltonian(freqlist, couplings):\n",
    "    \"\"\"Calculate the Hamiltonian for a spin system (isotropic liquid).\n",
    "    \n",
    "    Arguments:\n",
    "        freqlist: a list of n chemical shifts (in Hz)\n",
    "        couplings: an n x n array of J coupling constants (in Hz)\n",
    "    Return:\n",
    "        H: numpy.ndarray spin Hamiltonian\n",
    "    \"\"\"\n",
    "    Lx, Ly, Lz = create_krons(freqlist)\n",
    "    Lproduct = cartesian_products(Lx, Ly, Lz)\n",
    "    H_zeeman = hamiltonian_diagonal(freqlist, Lz)\n",
    "    H_J = hamiltonian_off_diagonal(couplings, Lproduct)\n",
    "    H = H_zeeman + H_J\n",
    "    return H"
   ]
  },
  {
   "cell_type": "markdown",
   "metadata": {},
   "source": [
    "### Step 1: Each spin gets its own $L_x$, $L_y$ and $L_z$ operators.\n",
    "\n",
    "These are formed from Kronecker products between $\\sigma_{x/y/z}$ and $I$ operators.\n",
    "\n",
    "Each individual product, for n spins, uses one $\\sigma_{x/y/z}$ and $n - 1 I$ operators. They all differ in where in the sequence the $\\sigma_{x/y/z}$ operator is placed.\n",
    "\n",
    "For 3 spins, and using $L_z$ for example:\n",
    "\n",
    "\\begin{align}\n",
    "L_{z_1} &= \\sigma_z \\otimes I \\otimes I\\\\\n",
    "L_{z_2} &= I \\otimes \\sigma_z \\otimes I\\\\\n",
    "L_{z_3} &= I \\otimes I \\otimes \\sigma_z\n",
    "\\end{align}\n"
   ]
  },
  {
   "cell_type": "markdown",
   "metadata": {},
   "source": [
    "In the Python code, these individual $L_{x/y/z_n}$ operators get stored in a [0, n] array, Ln.\n"
   ]
  },
  {
   "cell_type": "code",
   "execution_count": 6,
   "metadata": {
    "collapsed": true
   },
   "outputs": [],
   "source": [
    "def create_krons(freqlist):\n",
    "    nspins = len(freqlist)\n",
    "    # The following empty arrays will be used to store the\n",
    "    # Cartesian spin operators.\n",
    "    Lx = np.empty((1, nspins), dtype='object')\n",
    "    Ly = np.empty((1, nspins), dtype='object')\n",
    "    Lz = np.empty((1, nspins), dtype='object')\n",
    "\n",
    "    for n in range(nspins):\n",
    "        Lx[0, n] = 1\n",
    "        Ly[0, n] = 1\n",
    "        Lz[0, n] = 1\n",
    "        for k in range(nspins):\n",
    "            if k == n:                                  # Diagonal element\n",
    "                Lx[0, n] = np.kron(Lx[0, n], sigma_x)\n",
    "                Ly[0, n] = np.kron(Ly[0, n], sigma_y)\n",
    "                Lz[0, n] = np.kron(Lz[0, n], sigma_z)\n",
    "            else:                                       # Off-diagonal element\n",
    "                Lx[0, n] = np.kron(Lx[0, n], unit)\n",
    "                Ly[0, n] = np.kron(Ly[0, n], unit)\n",
    "                Lz[0, n] = np.kron(Lz[0, n], unit)\n",
    "                \n",
    "    return Lx, Ly, Lz"
   ]
  },
  {
   "cell_type": "markdown",
   "metadata": {},
   "source": [
    "### Step 2: Create the sums of cartesian products of $L$ operators.\n",
    "\n",
    "Eventually, the off-diagonal components of the Hamiltonian  $H$ require calculating Cartesian products of the $L$ operators. In an attempt to hopefully \"vectorize\" these for faster computation, all of these products were calculated at once.\n",
    "\n",
    "First, the $L_x, L_y, $ and $L_z$ operators were compiled into a 3 x n array of operators:\n",
    "```python\n",
    "Lcol = np.vstack((Lx, Ly, Lz)).real\n",
    "```\n",
    "created:\n",
    "\\begin{align}\n",
    "L_{col} = \\begin{pmatrix}\n",
    "L_{x_1}& L_{x_2}&\\dots & L_{x_n}\\\\ \n",
    "L_{x_1}& L_{x_2}&\\dots & L_{x_n}\\\\\n",
    "L_{x_1}& L_{x_2}&\\dots & L_{x_n}\n",
    "\\end{pmatrix}\n",
    "\\end{align}\n",
    "\n",
    "Its transpose created the n x 3 array of operators:\n",
    "\n",
    "\\begin{align}\n",
    "L_{row} = \\begin{pmatrix}\n",
    "L_{x_1}& L_{y_1}&L_{z_1}\\\\ \n",
    "L_{x_2}& L_{y_2}&L_{z_2}\\\\\n",
    "\\vdots&\\vdots&\\vdots\\\\\n",
    "L_{x_n}& L_{y_n}&L_{z_n}\n",
    "\\end{pmatrix}\n",
    "\\end{align}\n",
    "\n",
    "The product of these two arrays gives an array of the Cartesian products:\n",
    "\n",
    "\\begin{align}\n",
    "L_{product}&= L_{row} \\cdot L_{col} \\\\\n",
    "&=\\begin{pmatrix}\n",
    "L_{x_1}L_{x_1}+L_{y_1}L_{y_1}+L_{z_1}L_{z_1}&L_{x_1}L_{x_2}+L_{y_1}L_{y_2}+L_{z_1}L_{z_2}&\\dots&L_{x_1}L_{x_n}+L_{y_1}L_{y_n}+L_{z_1}L_{z_n}\\\\\n",
    "\\vdots& &\\ddots& \\\\\n",
    "L_{x_n}L_{x_1}+L_{y_n}L_{y_1}+L_{z_n}L_{z_1}&L_{x_n}L_{x_2}+L_{y_n}L_{y_2}+L_{z_n}L_{z_2}&\\dots&L_{x_n}L_{x_n}+L_{y_n}L_{y_n}+L_{z_n}L_{z_n}\\\\\n",
    "\\end{pmatrix}\n",
    "\\end{align}\n",
    "\n",
    "\n",
    "\n"
   ]
  },
  {
   "cell_type": "code",
   "execution_count": 7,
   "metadata": {
    "collapsed": true
   },
   "outputs": [],
   "source": [
    "def cartesian_products(Lx, Ly, Lz):\n",
    "    Lcol = np.vstack((Lx, Ly, Lz)).real\n",
    "    Lrow = Lcol.T  # As opposed to sparse version of code, this works!\n",
    "    Lproduct = np.dot(Lrow, Lcol)\n",
    "    return Lproduct"
   ]
  },
  {
   "cell_type": "markdown",
   "metadata": {},
   "source": [
    "### Step 3: Add the Zeeman (on-diagonal) terms to the Hamiltonian.\n",
    "\n",
    "\\begin{align}\n",
    "H_{Zeeman} = \\sum_{i=1}^n \\nu_i L_{z_i}\n",
    "\\end{align}"
   ]
  },
  {
   "cell_type": "code",
   "execution_count": 8,
   "metadata": {
    "collapsed": true
   },
   "outputs": [],
   "source": [
    "def hamiltonian_diagonal(freqlist, Lz):\n",
    "    nspins = len(freqlist)\n",
    "    # Hamiltonian operator\n",
    "    H = np.zeros((2**nspins, 2**nspins))\n",
    "\n",
    "    # Add Zeeman interactions:\n",
    "    for n in range(nspins):\n",
    "        H = H + freqlist[n] * Lz[0, n]\n",
    "    \n",
    "    return H\n",
    "\n"
   ]
  },
  {
   "cell_type": "markdown",
   "metadata": {},
   "source": [
    "### Step 4: Add the J-coupling (off-diagonal) terms to the Hamiltonian.\n",
    "\n",
    "\\begin{align}\n",
    "H_J &= \\sum_{i=1}^n \\sum_{j=1}^n \\frac{J_{ij}}{2} (L_{x_i}L_{x_j}+L_{y_i}L_{y_j}+L_{z_i}L_{z_j})\\\\\n",
    "H &= H_{Zeeman} + H_J\n",
    "\\end{align}\n",
    "\n",
    "In an attempt to vectorize the calculation for better performance, this was accomplished by doing in-place multiplication of the matrix of $J$ coupling constants and the "
   ]
  },
  {
   "cell_type": "code",
   "execution_count": 9,
   "metadata": {
    "collapsed": true
   },
   "outputs": [],
   "source": [
    "def hamiltonian_off_diagonal(couplings, Lproduct):\n",
    "    \n",
    "    nspins = len(couplings[0])\n",
    "    # Hamiltonian operator\n",
    "    H = np.zeros((2**nspins, 2**nspins))\n",
    "    \n",
    "    # Scalar couplings\n",
    "\n",
    "    # Testing with MATLAB discovered J must be /2.\n",
    "    # Believe it is related to the fact that in the SpinDynamics.org simulation\n",
    "    # freqs are *2pi, but Js by pi only.\n",
    "    scalars = 0.5 * couplings\n",
    "    scalars = np.multiply(scalars, Lproduct)\n",
    "    for n in range(nspins):\n",
    "        for k in range(nspins):\n",
    "            H += scalars[n, k].real\n",
    "\n",
    "    return H"
   ]
  },
  {
   "cell_type": "code",
   "execution_count": 10,
   "metadata": {
    "collapsed": true
   },
   "outputs": [],
   "source": [
    "def popcount(n=0):\n",
    "    \"\"\"\n",
    "    Computes the popcount (binary Hamming weight) of integer n\n",
    "    input:\n",
    "        :param n: an integer\n",
    "    returns:\n",
    "        popcount of integer (binary Hamming weight)\n",
    "\n",
    "    \"\"\"\n",
    "    return bin(n).count('1')\n",
    "\n",
    "\n",
    "def is_allowed(m=0, n=0):\n",
    "    \"\"\"\n",
    "    determines if a transition between two spin states is allowed or forbidden.\n",
    "    The transition is allowed if one and only one spin (i.e. bit) changes\n",
    "    input: integers whose binary codes for a spin state\n",
    "        :param n:\n",
    "        :param m:\n",
    "    output: 1 = allowed, 0 = forbidden\n",
    "\n",
    "    \"\"\"\n",
    "    return popcount(m ^ n) == 1\n",
    "\n",
    "\n",
    "def transition_matrix(n):\n",
    "    \"\"\"\n",
    "    Creates a matrix of allowed transitions.\n",
    "    The integers 0-n, in their binary form, code for a spin state (alpha/beta).\n",
    "    The (i,j) cells in the matrix indicate whether a transition from spin state\n",
    "    i to spin state j is allowed or forbidden.\n",
    "    See the is_allowed function for more information.\n",
    "\n",
    "    input:\n",
    "        :param n: size of the n,n matrix (i.e. number of possible spin states)\n",
    "\n",
    "    :returns: a transition matrix that can be used to compute the intensity of\n",
    "    allowed transitions.\n",
    "    \"\"\"\n",
    "    # function was optimized by only calculating upper triangle and then adding\n",
    "    # the lower.\n",
    "    T = lil_matrix((n, n))  # sparse matrix created\n",
    "    for i in range(n - 1):\n",
    "        for j in range(i + 1, n):\n",
    "            if is_allowed(i, j):\n",
    "                T[i, j] = 1\n",
    "    T = T + T.T\n",
    "    return T"
   ]
  },
  {
   "cell_type": "code",
   "execution_count": 11,
   "metadata": {
    "collapsed": true
   },
   "outputs": [],
   "source": [
    "def simsignals(H, nspins):\n",
    "    \"\"\"\n",
    "    Solves the spin Hamiltonian H and returns a list of (frequency, intensity)\n",
    "    tuples. Nuclei must be spin-1/2.\n",
    "    Inputs:\n",
    "        :param H: a Hamiltonian array\n",
    "        :param nspins: number of nuclei\n",
    "    :return spectrum: a list of (frequency, intensity) tuples.\n",
    "    \"\"\"\n",
    "    # This routine was optimized for speed by vectorizing the intensity\n",
    "    # calculations, replacing a nested-for signal-by-signal calculation.\n",
    "    # Considering that hamiltonian was dramatically faster when refactored to\n",
    "    # use arrays instead of sparse matrices, consider an array refactor to this\n",
    "    # function as well.\n",
    "\n",
    "    # The eigensolution calculation apparently must be done on a dense matrix,\n",
    "    # because eig functions on sparse matrices can't return all answers?!\n",
    "    # Using eigh so that answers have only real components and no residual small\n",
    "    # unreal components b/c of rounding errors\n",
    "    E, V = np.linalg.eigh(H)    # V will be eigenvectors, v will be frequencies\n",
    "    print(E)\n",
    "    # Eigh still leaves residual 0j terms, so:\n",
    "    V = np.asmatrix(V.real)\n",
    "    print(V)\n",
    "\n",
    "    # Calculate signal intensities\n",
    "    Vcol = csc_matrix(V)\n",
    "    Vrow = csr_matrix(Vcol.T)\n",
    "    m = 2 ** nspins\n",
    "    T = transition_matrix(m)\n",
    "    I = Vrow * T * Vcol\n",
    "    I = np.square(I.todense())\n",
    "\n",
    "    spectrum = []\n",
    "    for i in range(m - 1):\n",
    "        for j in range(i + 1, m):\n",
    "            if I[i, j] > 0.01:  # consider making this minimum intensity\n",
    "                                # cutoff a function arg, for flexibility\n",
    "                v = abs(E[i] - E[j])\n",
    "                spectrum.append((v, I[i, j]))\n",
    "\n",
    "    return spectrum"
   ]
  },
  {
   "cell_type": "code",
   "execution_count": 12,
   "metadata": {
    "collapsed": true
   },
   "outputs": [],
   "source": [
    "def hamiltonian_with_prints(freqlist, couplings):\n",
    "    # The following empty arrays will be used to store the\n",
    "    # Cartesian spin operators.\n",
    "    Lx = np.empty((1, nspins), dtype='object')\n",
    "    Ly = np.empty((1, nspins), dtype='object')\n",
    "    Lz = np.empty((1, nspins), dtype='object')\n",
    "\n",
    "    for n in range(nspins):\n",
    "        Lx[0, n] = 1\n",
    "        Ly[0, n] = 1\n",
    "        Lz[0, n] = 1\n",
    "        for k in range(nspins):\n",
    "            if k == n:                                  # Diagonal element\n",
    "                Lx[0, n] = np.kron(Lx[0, n], sigma_x)\n",
    "                Ly[0, n] = np.kron(Ly[0, n], sigma_y)\n",
    "                Lz[0, n] = np.kron(Lz[0, n], sigma_z)\n",
    "            else:                                       # Off-diagonal element\n",
    "                Lx[0, n] = np.kron(Lx[0, n], unit)\n",
    "                Ly[0, n] = np.kron(Ly[0, n], unit)\n",
    "                Lz[0, n] = np.kron(Lz[0, n], unit)\n",
    "\n",
    "    Lcol = np.vstack((Lx, Ly, Lz)).real\n",
    "    Lrow = Lcol.T  # As opposed to sparse version of code, this works!\n",
    "    Lproduct = np.dot(Lrow, Lcol)\n",
    "    print(Lcol)\n",
    "    print('-'*10)\n",
    "    print(Lrow)\n",
    "    print('-'*10)\n",
    "    print(Lproduct)\n",
    "\n",
    "    # Hamiltonian operator\n",
    "    H = np.zeros((2**nspins, 2**nspins))\n",
    "\n",
    "    # Add Zeeman interactions:\n",
    "    for n in range(nspins):\n",
    "        H = H + freqlist[n] * Lz[0, n]\n",
    "\n",
    "    # Scalar couplings\n",
    "\n",
    "    # Testing with MATLAB discovered J must be /2.\n",
    "    # Believe it is related to the fact that in the SpinDynamics.org simulation\n",
    "    # freqs are *2pi, but Js by pi only.\n",
    "    scalars = 0.5 * couplings\n",
    "    scalars = np.multiply(scalars, Lproduct)\n",
    "    for n in range(nspins):\n",
    "        for k in range(nspins):\n",
    "            H += scalars[n, k].real\n",
    "            \n",
    "    print('Lz: ', Lz)\n",
    "\n",
    "    return H\n",
    "    "
   ]
  },
  {
   "cell_type": "code",
   "execution_count": 13,
   "metadata": {},
   "outputs": [
    {
     "data": {
      "text/plain": [
       "matrix([[ 16.25,   0.  ,   0.  ,   0.  ],\n",
       "        [  0.  ,  -6.25,   2.5 ,   0.  ],\n",
       "        [  0.  ,   2.5 ,   3.75,   0.  ],\n",
       "        [  0.  ,   0.  ,   0.  , -13.75]])"
      ]
     },
     "execution_count": 13,
     "metadata": {},
     "output_type": "execute_result"
    }
   ],
   "source": [
    "H = hamiltonian(freqlist, couplings)\n",
    "H"
   ]
  },
  {
   "cell_type": "code",
   "execution_count": 14,
   "metadata": {},
   "outputs": [
    {
     "name": "stdout",
     "output_type": "stream",
     "text": [
      "[-13.75        -6.84016994   4.34016994  16.25      ]\n",
      "[[ 0.          0.         -0.          1.        ]\n",
      " [ 0.         -0.97324899 -0.22975292  0.        ]\n",
      " [ 0.          0.22975292 -0.97324899  0.        ]\n",
      " [ 1.          0.         -0.          0.        ]]\n"
     ]
    },
    {
     "data": {
      "text/plain": [
       "[(6.9098300562505255, 0.55278640450004191),\n",
       " (18.090169943749473, 1.4472135954999577),\n",
       " (23.090169943749473, 0.55278640450004191),\n",
       " (11.909830056250525, 1.4472135954999577)]"
      ]
     },
     "execution_count": 14,
     "metadata": {},
     "output_type": "execute_result"
    }
   ],
   "source": [
    "nspins = len(freqlist)\n",
    "simsignals(H, nspins)"
   ]
  },
  {
   "cell_type": "markdown",
   "metadata": {},
   "source": [
    "What happens if we only have one nucleus?"
   ]
  },
  {
   "cell_type": "code",
   "execution_count": 15,
   "metadata": {
    "collapsed": true
   },
   "outputs": [],
   "source": [
    "freqlist = [10.0]\n",
    "couplings = np.array([[0]])\n",
    "nspins = len(freqlist)"
   ]
  },
  {
   "cell_type": "markdown",
   "metadata": {},
   "source": [
    "two uncoupled spins:"
   ]
  },
  {
   "cell_type": "code",
   "execution_count": 16,
   "metadata": {
    "collapsed": true
   },
   "outputs": [],
   "source": [
    "freqlist = [10.0, 20.0]\n",
    "couplings = np.array([[0, 0], [0, 0]])\n",
    "nspins = len(freqlist)"
   ]
  },
  {
   "cell_type": "code",
   "execution_count": null,
   "metadata": {
    "collapsed": true
   },
   "outputs": [],
   "source": []
  }
 ],
 "metadata": {
  "kernelspec": {
   "display_name": "Python [default]",
   "language": "python",
   "name": "python3"
  },
  "language_info": {
   "codemirror_mode": {
    "name": "ipython",
    "version": 3
   },
   "file_extension": ".py",
   "mimetype": "text/x-python",
   "name": "python",
   "nbconvert_exporter": "python",
   "pygments_lexer": "ipython3",
   "version": "3.5.4"
  }
 },
 "nbformat": 4,
 "nbformat_minor": 1
}
